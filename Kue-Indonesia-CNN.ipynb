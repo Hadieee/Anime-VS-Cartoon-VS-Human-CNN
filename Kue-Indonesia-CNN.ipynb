{
 "cells": [
  {
   "cell_type": "markdown",
   "metadata": {},
   "source": [
    "# PA KELOMPOK 1 KECERDASAN BUATAN\n",
    "\n",
    "### NAMA ANGGOTA KELOMPOK : \n",
    "### - Hadie Pratama Tulili\n",
    "### - Rafi Izdihar\n",
    "### - Muhammad Firdaus"
   ]
  },
  {
   "cell_type": "markdown",
   "metadata": {},
   "source": [
    "# 1.Tujuan\n",
    "\n",
    "1. Untuk mengaplikasikan Convolutional Neural Networks (CNN) untuk memprediksi tipe kue khas indonesia.\n",
    "\n",
    "2. Untuk mengklasifikasikan setiap gambar kue ke salah satu dari 8 kategori : \n",
    "    **kue_risoles, kue_lumpur, kue_kastengel, kue_dadar_gulung, kue_putri_salju, kue_klepon,kue_serabi, kue_lapis**\n",
    "    \n",
    "3. Jumlah data training yang digunakan sebesar ??? sampel, jumlah data testing sebesar ??? sampel serta jumlah data validation sebesar ??? sampel."
   ]
  },
  {
   "cell_type": "code",
   "execution_count": null,
   "metadata": {},
   "outputs": [],
   "source": [
    "import tensorflow as tf\n",
    "import numpy as np\n",
    "import matplotlib.pyplot as plt\n",
    "import seaborn as sns\n",
    "from keras_preprocessing.image import ImageDataGenerator\n",
    "from sklearn.metrics import classification_report, confusion_matrix"
   ]
  },
  {
   "cell_type": "code",
   "execution_count": null,
   "metadata": {},
   "outputs": [],
   "source": [
    "# directory list\n",
    "train_path = './cakes-dataset/train/'\n",
    "test_path = './cakes-dataset/test/'\n",
    "val_path = './cakes-dataset/validation/'"
   ]
  },
  {
   "cell_type": "code",
   "execution_count": 75,
   "metadata": {},
   "outputs": [
    {
     "name": "stdout",
     "output_type": "stream",
     "text": [
      "Found 1642 files belonging to 4 classes.\n",
      "Found 392 files belonging to 4 classes.\n",
      "Found 512 files belonging to 4 classes.\n"
     ]
    }
   ],
   "source": [
    "#Training\n",
    "train = tf.keras.utils.image_dataset_from_directory(train_path,\n",
    "                                                            batch_size=32,                                                        \n",
    "                                                            image_size=(150, 150),\n",
    "                                                            labels='inferred',\n",
    "                                                            label_mode='categorical',\n",
    "                                                            shuffle=True)\n",
    "\n",
    "#Validation\n",
    "validation = tf.keras.utils.image_dataset_from_directory(val_path,\n",
    "                                                            batch_size=32,\n",
    "                                                            image_size=(150, 150),\n",
    "                                                            labels='inferred',\n",
    "                                                            label_mode='categorical',\n",
    "                                                            shuffle=True)\n",
    "\n",
    "\n",
    "#Testing\n",
    "test = tf.keras.utils.image_dataset_from_directory(test_path,\n",
    "                                                            batch_size=32,\n",
    "                                                            image_size=(150, 150),\n",
    "                                                            labels='inferred',\n",
    "                                                            label_mode='categorical',\n",
    "                                                            shuffle=True)                                                            "
   ]
  },
  {
   "cell_type": "code",
   "execution_count": null,
   "metadata": {},
   "outputs": [],
   "source": [
    "train_datagen = ImageDataGenerator(rescale=1./255,\n",
    "                                rotation_range = 0.45,\n",
    "                                zoom_range = 0.2,\n",
    "                                horizontal_flip = True,\n",
    "                                fill_mode = 'nearest')\n",
    "\n",
    "training_set = train_datagen.flow_from_directory(train_path,\n",
    "                                                batch_size=64,\n",
    "                                                target_size=(150,150),\n",
    "                                                shuffle=True,\n",
    "                                                color_mode = \"rgb\",\n",
    "                                                class_mode='categorical')\n",
    "\n",
    "val_datagen = ImageDataGenerator(rescale=1./255,\n",
    "                                rotation_range = 0.45,\n",
    "                                zoom_range = 0.2,\n",
    "                                horizontal_flip = True,\n",
    "                                fill_mode = 'nearest')\n",
    "\n",
    "validation_set = val_datagen.flow_from_directory(val_path,\n",
    "                                                batch_size=64,\n",
    "                                                target_size=(150,150),\n",
    "                                                shuffle=True,\n",
    "                                                color_mode = \"rgb\",\n",
    "                                                class_mode='categorical')\n",
    "\n",
    "test_datagen = ImageDataGenerator(rescale=1./255,\n",
    "                                rotation_range = 0.45,\n",
    "                                zoom_range = 0.2,\n",
    "                                horizontal_flip = True,\n",
    "                                fill_mode = 'nearest')\n",
    "\n",
    "test_set = test_datagen.flow_from_directory(test_path,\n",
    "                                                batch_size=64,\n",
    "                                                target_size=(150,150),\n",
    "                                                shuffle=True,\n",
    "                                                color_mode = \"rgb\",\n",
    "                                                class_mode='categorical')"
   ]
  },
  {
   "cell_type": "code",
   "execution_count": null,
   "metadata": {},
   "outputs": [],
   "source": [
    "# class names\n",
    "class_names = train.class_names\n",
    "class_names"
   ]
  },
  {
   "cell_type": "markdown",
   "metadata": {},
   "source": [
    "# Visualisasi"
   ]
  },
  {
   "cell_type": "code",
   "execution_count": null,
   "metadata": {},
   "outputs": [],
   "source": [
    "# data visualization\n",
    "plt.figure(figsize=(10, 10))\n",
    "for images, labels in train.take(1):\n",
    "  for i in range(9):\n",
    "    ax = plt.subplot(3, 3, i + 1)\n",
    "    plt.imshow(images[i].numpy().astype(\"uint8\"))\n",
    "    plt.title(class_names[np.argmax(labels[i])])\n",
    "    plt.axis(\"off\")"
   ]
  },
  {
   "cell_type": "code",
   "execution_count": null,
   "metadata": {},
   "outputs": [],
   "source": [
    "train_temp = train.unbatch()\n",
    "labels_train = []\n",
    "for x, y in train_temp:\n",
    "    index = np.argmax(y)\n",
    "    labels_train.append(class_names[index])"
   ]
  },
  {
   "cell_type": "code",
   "execution_count": null,
   "metadata": {},
   "outputs": [],
   "source": [
    "val_temp = validation.unbatch()\n",
    "labels_val = []\n",
    "for x, y in val_temp:\n",
    "    index = np.argmax(y)\n",
    "    labels_val.append(class_names[index])"
   ]
  },
  {
   "cell_type": "code",
   "execution_count": null,
   "metadata": {},
   "outputs": [],
   "source": [
    "plt.figure(figsize=(10, 8))\n",
    "\n",
    "sns.set_theme()\n",
    "\n",
    "sns.countplot(x=labels_train)\n",
    "plt.xlabel('Kue Indonesia')\n",
    "plt.ylabel('Jumlah')\n",
    "plt.title('Beberapa Nama Kelas Yang Ada di Train Set')\n",
    "plt.show()"
   ]
  },
  {
   "cell_type": "code",
   "execution_count": null,
   "metadata": {},
   "outputs": [],
   "source": [
    "plt.figure(figsize=(10, 8))\n",
    "\n",
    "sns.set_theme()\n",
    "\n",
    "\n",
    "sns.countplot(x=labels_val)\n",
    "plt.xlabel('Kue Indonesia')\n",
    "plt.ylabel('Jumlah')\n",
    "plt.title('Beberapa Nama Kelas Yang Ada di Val Set')\n",
    "plt.show()"
   ]
  },
  {
   "cell_type": "code",
   "execution_count": 76,
   "metadata": {},
   "outputs": [],
   "source": [
    "#Normalisasi\n",
    "def normalize_img(image, label):\n",
    "  return tf.cast(image, tf.float32)/255 , label\n",
    "\n",
    "#Tambah tingkat keterangan\n",
    "def random_brightness(image, label):\n",
    "  return tf.image.random_brightness(image,max_delta=0.7), label"
   ]
  },
  {
   "cell_type": "code",
   "execution_count": 77,
   "metadata": {},
   "outputs": [],
   "source": [
    "train = train.map(normalize_img)\n",
    "validation = validation.map(normalize_img)\n",
    "test = test.map(normalize_img)"
   ]
  },
  {
   "cell_type": "code",
   "execution_count": 78,
   "metadata": {},
   "outputs": [],
   "source": [
    "model = tf.keras.Sequential([\n",
    "\n",
    "tf.keras.layers.Conv2D(64, (3,3), activation='relu',input_shape=[150, 150, 3]),\n",
    "tf.keras.layers.MaxPooling2D(pool_size = (2,2)),\n",
    "tf.keras.layers.Dropout(0.7),\n",
    "\n",
    "tf.keras.layers.Conv2D(32, (3,3), activation='relu'),\n",
    "tf.keras.layers.MaxPooling2D(pool_size = (2,2)),\n",
    "tf.keras.layers.Dropout(0.6),\n",
    "\n",
    "tf.keras.layers.Conv2D(16, (3,3), activation='relu'),\n",
    "tf.keras.layers.MaxPooling2D(pool_size = (2,2)),\n",
    "tf.keras.layers.Dropout(0.5),\n",
    "\n",
    "tf.keras.layers.Conv2D(8, (3,3), activation='relu'),\n",
    "tf.keras.layers.MaxPooling2D(pool_size = (2,2)),\n",
    "\n",
    "tf.keras.layers.Flatten(),\n",
    "tf.keras.layers.Dense(4, activation='softmax')\n",
    "])"
   ]
  },
  {
   "cell_type": "code",
   "execution_count": 79,
   "metadata": {},
   "outputs": [
    {
     "name": "stdout",
     "output_type": "stream",
     "text": [
      "Model: \"sequential_5\"\n",
      "_________________________________________________________________\n",
      " Layer (type)                Output Shape              Param #   \n",
      "=================================================================\n",
      " conv2d_20 (Conv2D)          (None, 148, 148, 64)      1792      \n",
      "                                                                 \n",
      " max_pooling2d_20 (MaxPoolin  (None, 74, 74, 64)       0         \n",
      " g2D)                                                            \n",
      "                                                                 \n",
      " dropout_15 (Dropout)        (None, 74, 74, 64)        0         \n",
      "                                                                 \n",
      " conv2d_21 (Conv2D)          (None, 72, 72, 32)        18464     \n",
      "                                                                 \n",
      " max_pooling2d_21 (MaxPoolin  (None, 36, 36, 32)       0         \n",
      " g2D)                                                            \n",
      "                                                                 \n",
      " dropout_16 (Dropout)        (None, 36, 36, 32)        0         \n",
      "                                                                 \n",
      " conv2d_22 (Conv2D)          (None, 34, 34, 16)        4624      \n",
      "                                                                 \n",
      " max_pooling2d_22 (MaxPoolin  (None, 17, 17, 16)       0         \n",
      " g2D)                                                            \n",
      "                                                                 \n",
      " dropout_17 (Dropout)        (None, 17, 17, 16)        0         \n",
      "                                                                 \n",
      " conv2d_23 (Conv2D)          (None, 15, 15, 8)         1160      \n",
      "                                                                 \n",
      " max_pooling2d_23 (MaxPoolin  (None, 7, 7, 8)          0         \n",
      " g2D)                                                            \n",
      "                                                                 \n",
      " flatten_5 (Flatten)         (None, 392)               0         \n",
      "                                                                 \n",
      " dense_5 (Dense)             (None, 4)                 1572      \n",
      "                                                                 \n",
      "=================================================================\n",
      "Total params: 27,612\n",
      "Trainable params: 27,612\n",
      "Non-trainable params: 0\n",
      "_________________________________________________________________\n"
     ]
    }
   ],
   "source": [
    "model.summary()"
   ]
  },
  {
   "cell_type": "code",
   "execution_count": 80,
   "metadata": {},
   "outputs": [],
   "source": [
    "model.compile(optimizer='adam', loss = 'categorical_crossentropy',metrics=['accuracy'])"
   ]
  },
  {
   "cell_type": "code",
   "execution_count": 81,
   "metadata": {},
   "outputs": [],
   "source": [
    "earlyStopping = tf.keras.callbacks.EarlyStopping(\n",
    "    monitor='val_accuracy',\n",
    "    patience=10,\n",
    ")"
   ]
  },
  {
   "cell_type": "code",
   "execution_count": null,
   "metadata": {},
   "outputs": [],
   "source": [
    "hasil1 = model.fit(training_set, epochs=30,validation_data=validation_set,verbose=1,callbacks=[earlyStopping])"
   ]
  },
  {
   "cell_type": "code",
   "execution_count": 82,
   "metadata": {},
   "outputs": [
    {
     "name": "stdout",
     "output_type": "stream",
     "text": [
      "Epoch 1/30\n",
      "52/52 [==============================] - 73s 1s/step - loss: 1.4168 - accuracy: 0.2722 - val_loss: 1.3866 - val_accuracy: 0.2551\n",
      "Epoch 2/30\n",
      "52/52 [==============================] - 68s 1s/step - loss: 1.3592 - accuracy: 0.3045 - val_loss: 1.3843 - val_accuracy: 0.2577\n",
      "Epoch 3/30\n",
      "52/52 [==============================] - 70s 1s/step - loss: 1.3251 - accuracy: 0.3508 - val_loss: 1.3806 - val_accuracy: 0.2628\n",
      "Epoch 4/30\n",
      "52/52 [==============================] - 70s 1s/step - loss: 1.2007 - accuracy: 0.4501 - val_loss: 1.2724 - val_accuracy: 0.4337\n",
      "Epoch 5/30\n",
      "52/52 [==============================] - 68s 1s/step - loss: 1.1349 - accuracy: 0.4775 - val_loss: 1.3008 - val_accuracy: 0.3163\n",
      "Epoch 6/30\n",
      "52/52 [==============================] - 68s 1s/step - loss: 1.0137 - accuracy: 0.5566 - val_loss: 1.1449 - val_accuracy: 0.5102\n",
      "Epoch 7/30\n",
      "52/52 [==============================] - 66s 1s/step - loss: 0.8829 - accuracy: 0.6346 - val_loss: 1.0146 - val_accuracy: 0.5791\n",
      "Epoch 8/30\n",
      "52/52 [==============================] - 76s 1s/step - loss: 0.8170 - accuracy: 0.6742 - val_loss: 0.9500 - val_accuracy: 0.6429\n",
      "Epoch 9/30\n",
      "52/52 [==============================] - 77s 1s/step - loss: 0.7917 - accuracy: 0.6772 - val_loss: 0.8738 - val_accuracy: 0.6709\n",
      "Epoch 10/30\n",
      "52/52 [==============================] - 69s 1s/step - loss: 0.7637 - accuracy: 0.7089 - val_loss: 0.9496 - val_accuracy: 0.6224\n",
      "Epoch 11/30\n",
      "52/52 [==============================] - 75s 1s/step - loss: 0.7150 - accuracy: 0.7205 - val_loss: 0.9059 - val_accuracy: 0.6327\n",
      "Epoch 12/30\n",
      "52/52 [==============================] - 96s 2s/step - loss: 0.7376 - accuracy: 0.7083 - val_loss: 0.8635 - val_accuracy: 0.6888\n",
      "Epoch 13/30\n",
      "52/52 [==============================] - 66s 1s/step - loss: 0.7070 - accuracy: 0.7186 - val_loss: 0.8047 - val_accuracy: 0.6862\n",
      "Epoch 14/30\n",
      "52/52 [==============================] - 67s 1s/step - loss: 0.6763 - accuracy: 0.7393 - val_loss: 0.8238 - val_accuracy: 0.6811\n",
      "Epoch 15/30\n",
      "16/52 [========>.....................] - ETA: 59s - loss: 0.7225 - accuracy: 0.7031 "
     ]
    },
    {
     "ename": "KeyboardInterrupt",
     "evalue": "",
     "output_type": "error",
     "traceback": [
      "\u001b[1;31m---------------------------------------------------------------------------\u001b[0m",
      "\u001b[1;31mKeyboardInterrupt\u001b[0m                         Traceback (most recent call last)",
      "\u001b[1;32mc:\\Users\\LENOVO\\OneDrive\\Documents\\GitHub\\Kue-Indonesia-CNN\\Kue-Indonesia-CNN.ipynb Cell 21\u001b[0m in \u001b[0;36m<cell line: 1>\u001b[1;34m()\u001b[0m\n\u001b[1;32m----> <a href='vscode-notebook-cell:/c%3A/Users/LENOVO/OneDrive/Documents/GitHub/Kue-Indonesia-CNN/Kue-Indonesia-CNN.ipynb#X26sZmlsZQ%3D%3D?line=0'>1</a>\u001b[0m hasil \u001b[39m=\u001b[39m model\u001b[39m.\u001b[39;49mfit(train, epochs\u001b[39m=\u001b[39;49m\u001b[39m30\u001b[39;49m,validation_data\u001b[39m=\u001b[39;49mvalidation,verbose\u001b[39m=\u001b[39;49m\u001b[39m1\u001b[39;49m,callbacks\u001b[39m=\u001b[39;49m[earlyStopping])\n",
      "File \u001b[1;32mc:\\Users\\LENOVO\\AppData\\Local\\Programs\\Python\\Python310\\lib\\site-packages\\keras\\utils\\traceback_utils.py:65\u001b[0m, in \u001b[0;36mfilter_traceback.<locals>.error_handler\u001b[1;34m(*args, **kwargs)\u001b[0m\n\u001b[0;32m     63\u001b[0m filtered_tb \u001b[39m=\u001b[39m \u001b[39mNone\u001b[39;00m\n\u001b[0;32m     64\u001b[0m \u001b[39mtry\u001b[39;00m:\n\u001b[1;32m---> 65\u001b[0m     \u001b[39mreturn\u001b[39;00m fn(\u001b[39m*\u001b[39margs, \u001b[39m*\u001b[39m\u001b[39m*\u001b[39mkwargs)\n\u001b[0;32m     66\u001b[0m \u001b[39mexcept\u001b[39;00m \u001b[39mException\u001b[39;00m \u001b[39mas\u001b[39;00m e:\n\u001b[0;32m     67\u001b[0m     filtered_tb \u001b[39m=\u001b[39m _process_traceback_frames(e\u001b[39m.\u001b[39m__traceback__)\n",
      "File \u001b[1;32mc:\\Users\\LENOVO\\AppData\\Local\\Programs\\Python\\Python310\\lib\\site-packages\\keras\\engine\\training.py:1564\u001b[0m, in \u001b[0;36mModel.fit\u001b[1;34m(self, x, y, batch_size, epochs, verbose, callbacks, validation_split, validation_data, shuffle, class_weight, sample_weight, initial_epoch, steps_per_epoch, validation_steps, validation_batch_size, validation_freq, max_queue_size, workers, use_multiprocessing)\u001b[0m\n\u001b[0;32m   1556\u001b[0m \u001b[39mwith\u001b[39;00m tf\u001b[39m.\u001b[39mprofiler\u001b[39m.\u001b[39mexperimental\u001b[39m.\u001b[39mTrace(\n\u001b[0;32m   1557\u001b[0m     \u001b[39m\"\u001b[39m\u001b[39mtrain\u001b[39m\u001b[39m\"\u001b[39m,\n\u001b[0;32m   1558\u001b[0m     epoch_num\u001b[39m=\u001b[39mepoch,\n\u001b[1;32m   (...)\u001b[0m\n\u001b[0;32m   1561\u001b[0m     _r\u001b[39m=\u001b[39m\u001b[39m1\u001b[39m,\n\u001b[0;32m   1562\u001b[0m ):\n\u001b[0;32m   1563\u001b[0m     callbacks\u001b[39m.\u001b[39mon_train_batch_begin(step)\n\u001b[1;32m-> 1564\u001b[0m     tmp_logs \u001b[39m=\u001b[39m \u001b[39mself\u001b[39;49m\u001b[39m.\u001b[39;49mtrain_function(iterator)\n\u001b[0;32m   1565\u001b[0m     \u001b[39mif\u001b[39;00m data_handler\u001b[39m.\u001b[39mshould_sync:\n\u001b[0;32m   1566\u001b[0m         context\u001b[39m.\u001b[39masync_wait()\n",
      "File \u001b[1;32mc:\\Users\\LENOVO\\AppData\\Local\\Programs\\Python\\Python310\\lib\\site-packages\\tensorflow\\python\\util\\traceback_utils.py:150\u001b[0m, in \u001b[0;36mfilter_traceback.<locals>.error_handler\u001b[1;34m(*args, **kwargs)\u001b[0m\n\u001b[0;32m    148\u001b[0m filtered_tb \u001b[39m=\u001b[39m \u001b[39mNone\u001b[39;00m\n\u001b[0;32m    149\u001b[0m \u001b[39mtry\u001b[39;00m:\n\u001b[1;32m--> 150\u001b[0m   \u001b[39mreturn\u001b[39;00m fn(\u001b[39m*\u001b[39margs, \u001b[39m*\u001b[39m\u001b[39m*\u001b[39mkwargs)\n\u001b[0;32m    151\u001b[0m \u001b[39mexcept\u001b[39;00m \u001b[39mException\u001b[39;00m \u001b[39mas\u001b[39;00m e:\n\u001b[0;32m    152\u001b[0m   filtered_tb \u001b[39m=\u001b[39m _process_traceback_frames(e\u001b[39m.\u001b[39m__traceback__)\n",
      "File \u001b[1;32mc:\\Users\\LENOVO\\AppData\\Local\\Programs\\Python\\Python310\\lib\\site-packages\\tensorflow\\python\\eager\\def_function.py:915\u001b[0m, in \u001b[0;36mFunction.__call__\u001b[1;34m(self, *args, **kwds)\u001b[0m\n\u001b[0;32m    912\u001b[0m compiler \u001b[39m=\u001b[39m \u001b[39m\"\u001b[39m\u001b[39mxla\u001b[39m\u001b[39m\"\u001b[39m \u001b[39mif\u001b[39;00m \u001b[39mself\u001b[39m\u001b[39m.\u001b[39m_jit_compile \u001b[39melse\u001b[39;00m \u001b[39m\"\u001b[39m\u001b[39mnonXla\u001b[39m\u001b[39m\"\u001b[39m\n\u001b[0;32m    914\u001b[0m \u001b[39mwith\u001b[39;00m OptionalXlaContext(\u001b[39mself\u001b[39m\u001b[39m.\u001b[39m_jit_compile):\n\u001b[1;32m--> 915\u001b[0m   result \u001b[39m=\u001b[39m \u001b[39mself\u001b[39m\u001b[39m.\u001b[39m_call(\u001b[39m*\u001b[39margs, \u001b[39m*\u001b[39m\u001b[39m*\u001b[39mkwds)\n\u001b[0;32m    917\u001b[0m new_tracing_count \u001b[39m=\u001b[39m \u001b[39mself\u001b[39m\u001b[39m.\u001b[39mexperimental_get_tracing_count()\n\u001b[0;32m    918\u001b[0m without_tracing \u001b[39m=\u001b[39m (tracing_count \u001b[39m==\u001b[39m new_tracing_count)\n",
      "File \u001b[1;32mc:\\Users\\LENOVO\\AppData\\Local\\Programs\\Python\\Python310\\lib\\site-packages\\tensorflow\\python\\eager\\def_function.py:947\u001b[0m, in \u001b[0;36mFunction._call\u001b[1;34m(self, *args, **kwds)\u001b[0m\n\u001b[0;32m    944\u001b[0m   \u001b[39mself\u001b[39m\u001b[39m.\u001b[39m_lock\u001b[39m.\u001b[39mrelease()\n\u001b[0;32m    945\u001b[0m   \u001b[39m# In this case we have created variables on the first call, so we run the\u001b[39;00m\n\u001b[0;32m    946\u001b[0m   \u001b[39m# defunned version which is guaranteed to never create variables.\u001b[39;00m\n\u001b[1;32m--> 947\u001b[0m   \u001b[39mreturn\u001b[39;00m \u001b[39mself\u001b[39m\u001b[39m.\u001b[39m_stateless_fn(\u001b[39m*\u001b[39margs, \u001b[39m*\u001b[39m\u001b[39m*\u001b[39mkwds)  \u001b[39m# pylint: disable=not-callable\u001b[39;00m\n\u001b[0;32m    948\u001b[0m \u001b[39melif\u001b[39;00m \u001b[39mself\u001b[39m\u001b[39m.\u001b[39m_stateful_fn \u001b[39mis\u001b[39;00m \u001b[39mnot\u001b[39;00m \u001b[39mNone\u001b[39;00m:\n\u001b[0;32m    949\u001b[0m   \u001b[39m# Release the lock early so that multiple threads can perform the call\u001b[39;00m\n\u001b[0;32m    950\u001b[0m   \u001b[39m# in parallel.\u001b[39;00m\n\u001b[0;32m    951\u001b[0m   \u001b[39mself\u001b[39m\u001b[39m.\u001b[39m_lock\u001b[39m.\u001b[39mrelease()\n",
      "File \u001b[1;32mc:\\Users\\LENOVO\\AppData\\Local\\Programs\\Python\\Python310\\lib\\site-packages\\tensorflow\\python\\eager\\function.py:2496\u001b[0m, in \u001b[0;36mFunction.__call__\u001b[1;34m(self, *args, **kwargs)\u001b[0m\n\u001b[0;32m   2493\u001b[0m \u001b[39mwith\u001b[39;00m \u001b[39mself\u001b[39m\u001b[39m.\u001b[39m_lock:\n\u001b[0;32m   2494\u001b[0m   (graph_function,\n\u001b[0;32m   2495\u001b[0m    filtered_flat_args) \u001b[39m=\u001b[39m \u001b[39mself\u001b[39m\u001b[39m.\u001b[39m_maybe_define_function(args, kwargs)\n\u001b[1;32m-> 2496\u001b[0m \u001b[39mreturn\u001b[39;00m graph_function\u001b[39m.\u001b[39;49m_call_flat(\n\u001b[0;32m   2497\u001b[0m     filtered_flat_args, captured_inputs\u001b[39m=\u001b[39;49mgraph_function\u001b[39m.\u001b[39;49mcaptured_inputs)\n",
      "File \u001b[1;32mc:\\Users\\LENOVO\\AppData\\Local\\Programs\\Python\\Python310\\lib\\site-packages\\tensorflow\\python\\eager\\function.py:1862\u001b[0m, in \u001b[0;36mConcreteFunction._call_flat\u001b[1;34m(self, args, captured_inputs, cancellation_manager)\u001b[0m\n\u001b[0;32m   1858\u001b[0m possible_gradient_type \u001b[39m=\u001b[39m gradients_util\u001b[39m.\u001b[39mPossibleTapeGradientTypes(args)\n\u001b[0;32m   1859\u001b[0m \u001b[39mif\u001b[39;00m (possible_gradient_type \u001b[39m==\u001b[39m gradients_util\u001b[39m.\u001b[39mPOSSIBLE_GRADIENT_TYPES_NONE\n\u001b[0;32m   1860\u001b[0m     \u001b[39mand\u001b[39;00m executing_eagerly):\n\u001b[0;32m   1861\u001b[0m   \u001b[39m# No tape is watching; skip to running the function.\u001b[39;00m\n\u001b[1;32m-> 1862\u001b[0m   \u001b[39mreturn\u001b[39;00m \u001b[39mself\u001b[39m\u001b[39m.\u001b[39m_build_call_outputs(\u001b[39mself\u001b[39;49m\u001b[39m.\u001b[39;49m_inference_function\u001b[39m.\u001b[39;49mcall(\n\u001b[0;32m   1863\u001b[0m       ctx, args, cancellation_manager\u001b[39m=\u001b[39;49mcancellation_manager))\n\u001b[0;32m   1864\u001b[0m forward_backward \u001b[39m=\u001b[39m \u001b[39mself\u001b[39m\u001b[39m.\u001b[39m_select_forward_and_backward_functions(\n\u001b[0;32m   1865\u001b[0m     args,\n\u001b[0;32m   1866\u001b[0m     possible_gradient_type,\n\u001b[0;32m   1867\u001b[0m     executing_eagerly)\n\u001b[0;32m   1868\u001b[0m forward_function, args_with_tangents \u001b[39m=\u001b[39m forward_backward\u001b[39m.\u001b[39mforward()\n",
      "File \u001b[1;32mc:\\Users\\LENOVO\\AppData\\Local\\Programs\\Python\\Python310\\lib\\site-packages\\tensorflow\\python\\eager\\function.py:499\u001b[0m, in \u001b[0;36m_EagerDefinedFunction.call\u001b[1;34m(self, ctx, args, cancellation_manager)\u001b[0m\n\u001b[0;32m    497\u001b[0m \u001b[39mwith\u001b[39;00m _InterpolateFunctionError(\u001b[39mself\u001b[39m):\n\u001b[0;32m    498\u001b[0m   \u001b[39mif\u001b[39;00m cancellation_manager \u001b[39mis\u001b[39;00m \u001b[39mNone\u001b[39;00m:\n\u001b[1;32m--> 499\u001b[0m     outputs \u001b[39m=\u001b[39m execute\u001b[39m.\u001b[39;49mexecute(\n\u001b[0;32m    500\u001b[0m         \u001b[39mstr\u001b[39;49m(\u001b[39mself\u001b[39;49m\u001b[39m.\u001b[39;49msignature\u001b[39m.\u001b[39;49mname),\n\u001b[0;32m    501\u001b[0m         num_outputs\u001b[39m=\u001b[39;49m\u001b[39mself\u001b[39;49m\u001b[39m.\u001b[39;49m_num_outputs,\n\u001b[0;32m    502\u001b[0m         inputs\u001b[39m=\u001b[39;49margs,\n\u001b[0;32m    503\u001b[0m         attrs\u001b[39m=\u001b[39;49mattrs,\n\u001b[0;32m    504\u001b[0m         ctx\u001b[39m=\u001b[39;49mctx)\n\u001b[0;32m    505\u001b[0m   \u001b[39melse\u001b[39;00m:\n\u001b[0;32m    506\u001b[0m     outputs \u001b[39m=\u001b[39m execute\u001b[39m.\u001b[39mexecute_with_cancellation(\n\u001b[0;32m    507\u001b[0m         \u001b[39mstr\u001b[39m(\u001b[39mself\u001b[39m\u001b[39m.\u001b[39msignature\u001b[39m.\u001b[39mname),\n\u001b[0;32m    508\u001b[0m         num_outputs\u001b[39m=\u001b[39m\u001b[39mself\u001b[39m\u001b[39m.\u001b[39m_num_outputs,\n\u001b[1;32m   (...)\u001b[0m\n\u001b[0;32m    511\u001b[0m         ctx\u001b[39m=\u001b[39mctx,\n\u001b[0;32m    512\u001b[0m         cancellation_manager\u001b[39m=\u001b[39mcancellation_manager)\n",
      "File \u001b[1;32mc:\\Users\\LENOVO\\AppData\\Local\\Programs\\Python\\Python310\\lib\\site-packages\\tensorflow\\python\\eager\\execute.py:54\u001b[0m, in \u001b[0;36mquick_execute\u001b[1;34m(op_name, num_outputs, inputs, attrs, ctx, name)\u001b[0m\n\u001b[0;32m     52\u001b[0m \u001b[39mtry\u001b[39;00m:\n\u001b[0;32m     53\u001b[0m   ctx\u001b[39m.\u001b[39mensure_initialized()\n\u001b[1;32m---> 54\u001b[0m   tensors \u001b[39m=\u001b[39m pywrap_tfe\u001b[39m.\u001b[39;49mTFE_Py_Execute(ctx\u001b[39m.\u001b[39;49m_handle, device_name, op_name,\n\u001b[0;32m     55\u001b[0m                                       inputs, attrs, num_outputs)\n\u001b[0;32m     56\u001b[0m \u001b[39mexcept\u001b[39;00m core\u001b[39m.\u001b[39m_NotOkStatusException \u001b[39mas\u001b[39;00m e:\n\u001b[0;32m     57\u001b[0m   \u001b[39mif\u001b[39;00m name \u001b[39mis\u001b[39;00m \u001b[39mnot\u001b[39;00m \u001b[39mNone\u001b[39;00m:\n",
      "\u001b[1;31mKeyboardInterrupt\u001b[0m: "
     ]
    }
   ],
   "source": [
    "hasil = model.fit(train, epochs=30,validation_data=validation,verbose=1,callbacks=[earlyStopping])"
   ]
  },
  {
   "cell_type": "code",
   "execution_count": null,
   "metadata": {},
   "outputs": [],
   "source": [
    "test_evaluate = model.evaluate(test_set, verbose=0)\n",
    "print(f'Test loss     : {test_evaluate[0]}')\n",
    "print(f'Test accuracy : {test_evaluate[1]}')"
   ]
  },
  {
   "cell_type": "code",
   "execution_count": null,
   "metadata": {},
   "outputs": [],
   "source": [
    "epoch = [i+1 for i in range(30)]\n",
    "\n",
    "\n",
    "plt.figure(figsize=(25, 10))\n",
    "plt.suptitle('Train VS Validation')\n",
    "\n",
    "#Subplot Akurasi\n",
    "plt.subplot(1,2,1)\n",
    "sns.lineplot(x=epoch,y = hasil.history['accuracy'],label ='Train Accuracy')\n",
    "sns.lineplot(x=epoch,y = hasil.history['val_accuracy'],label ='Validation Accuracy')\n",
    "\n",
    "plt.xticks(epoch)\n",
    "plt.ylabel('Accuracy(%)')\n",
    "plt.xlabel('N_Epoch')\n",
    "plt.title(\"Train/Validation Accuracy\")\n",
    "\n",
    "#Subplot Loss\n",
    "plt.subplot(1,2,2)\n",
    "sns.lineplot(x=epoch,y = hasil.history['loss'],label ='Train Loss')\n",
    "sns.lineplot(x=epoch,y = hasil.history['val_loss'],label ='Validation Loss')\n",
    "\n",
    "plt.xticks(epoch)\n",
    "plt.title(\"Train/Validation Loss\")\n",
    "plt.xlabel('N_Epoch')\n",
    "plt.ylabel('Loss')\n",
    "plt.show()"
   ]
  },
  {
   "cell_type": "code",
   "execution_count": null,
   "metadata": {},
   "outputs": [],
   "source": [
    "image ,label = next(iter(test_set))\n",
    "\n",
    "\n",
    "plt.figure(figsize=(15,10))\n",
    "for i in range(9) :\n",
    "    TrueLabel = class_names[np.argmax(label[i])]\n",
    "    plt.subplot(3,3,i+1)\n",
    "    plt.axis('off')\n",
    "    y_pred = np.argmax(model.predict(image[i][None,...],verbose=0))\n",
    "    plt.imshow(tf.squeeze(image[i]))\n",
    "    plt.title(f'label: {TrueLabel}\\npredict : {class_names[y_pred]}')"
   ]
  },
  {
   "cell_type": "code",
   "execution_count": null,
   "metadata": {},
   "outputs": [],
   "source": [
    "#Plot prediction Error\n",
    "plt.figure(figsize=(15,10))\n",
    "\n",
    "i = 0\n",
    "j = 0\n",
    "while (j < 9):\n",
    "    TrueLabel = class_names[np.argmax(label[i])]\n",
    "    plt.subplot(3,3,j+1)\n",
    "    plt.axis('off')\n",
    "    y_pred = np.argmax(model.predict(image[i][None,...],verbose=0))\n",
    "\n",
    "    if (TrueLabel != class_names[y_pred]):\n",
    "        plt.imshow(tf.squeeze(image[i]))\n",
    "        plt.title(f'label: {TrueLabel} \\npredict : {class_names[y_pred]}')\n",
    "        j+=1\n",
    "    i+=1"
   ]
  },
  {
   "cell_type": "code",
   "execution_count": null,
   "metadata": {},
   "outputs": [],
   "source": [
    "test_pred = model.predict(test)\n",
    "test_pred_labes = np.argmax(test_pred,axis = 1)\n",
    "test_labels1 = np.concatenate([y for x, y in test], axis=0)\n",
    "test_labels = [np.argmax(y) for y in test_labels1]"
   ]
  },
  {
   "cell_type": "code",
   "execution_count": null,
   "metadata": {},
   "outputs": [],
   "source": [
    "plt.figure(figsize=(20, 16))\n",
    "cm = confusion_matrix(test_labels,test_pred_labes)\n",
    "\n",
    "sns.heatmap(cm,annot=True,fmt='d',xticklabels=class_names,yticklabels=class_names)\n",
    "plt.title(\"Confusion Matrix - Test Set\")\n",
    "plt.show()"
   ]
  },
  {
   "cell_type": "code",
   "execution_count": null,
   "metadata": {},
   "outputs": [],
   "source": [
    "#Classification Report\n",
    "print('Classification Report')\n",
    "print(classification_report(test_pred_labes, test_labels, target_names=class_names))"
   ]
  }
 ],
 "metadata": {
  "kernelspec": {
   "display_name": "Python 3.10.7 64-bit",
   "language": "python",
   "name": "python3"
  },
  "language_info": {
   "codemirror_mode": {
    "name": "ipython",
    "version": 3
   },
   "file_extension": ".py",
   "mimetype": "text/x-python",
   "name": "python",
   "nbconvert_exporter": "python",
   "pygments_lexer": "ipython3",
   "version": "3.10.7"
  },
  "orig_nbformat": 4,
  "vscode": {
   "interpreter": {
    "hash": "f2ccb58c476f33ba3e3aee7ac07234ef6b8217ef24ad64d2a7d4fed1a57c1cd2"
   }
  }
 },
 "nbformat": 4,
 "nbformat_minor": 2
}
