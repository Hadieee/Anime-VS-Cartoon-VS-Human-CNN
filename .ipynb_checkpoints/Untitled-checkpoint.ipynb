{
 "cells": [
  {
   "cell_type": "code",
   "execution_count": 110,
   "id": "fb230197-9d4a-48b9-b3b1-2fe282a46552",
   "metadata": {},
   "outputs": [],
   "source": [
    "import os\n",
    "import pandas as pd\n",
    "import tensorflow as tf\n",
    "import numpy as np\n",
    "import matplotlib.pyplot as plt\n",
    "import splitfolders\n",
    "import seaborn as sns\n",
    "from keras_preprocessing.image import ImageDataGenerator\n",
    "from sklearn.metrics import classification_report, confusion_matrix"
   ]
  },
  {
   "cell_type": "code",
   "execution_count": 111,
   "id": "660e4069-a0ba-4e1e-906a-385955a50468",
   "metadata": {},
   "outputs": [],
   "source": [
    "# Directory List\n",
    "train_path = '../../Dataset/Data/dataset/train/'\n",
    "test_path = '../../Dataset/Data/dataset/test/'\n",
    "val_path = '../../Dataset/Data/dataset/val/'"
   ]
  },
  {
   "cell_type": "code",
   "execution_count": 112,
   "id": "fab053d9-7cd7-4f33-9af9-74033f9bad45",
   "metadata": {},
   "outputs": [
    {
     "name": "stdout",
     "output_type": "stream",
     "text": [
      "Found 6241 images belonging to 4 classes.\n",
      "Found 1782 images belonging to 4 classes.\n",
      "Found 894 images belonging to 4 classes.\n"
     ]
    }
   ],
   "source": [
    "train_datagen = ImageDataGenerator(rescale = 1./255,\n",
    "                                    rotation_range=30, \n",
    "                                    shear_range=0.2, \n",
    "                                    zoom_range=(0.5,1.0), \n",
    "                                    fill_mode='nearest', \n",
    "                                    horizontal_flip=True,\n",
    "                                    vertical_flip=True,)\n",
    "\n",
    "train_set = train_datagen.flow_from_directory(train_path,\n",
    "                                                batch_size=32,\n",
    "                                                target_size=(128, 128),\n",
    "                                                class_mode='categorical')\n",
    "\n",
    "val_datagen = ImageDataGenerator(rescale=1./255)\n",
    "\n",
    "val_set = val_datagen.flow_from_directory(val_path,\n",
    "                                            batch_size=32,\n",
    "                                            target_size=(128, 128),\n",
    "                                            class_mode='categorical')\n",
    "\n",
    "test_datagen = ImageDataGenerator(rescale=1./255)\n",
    "\n",
    "test_set = test_datagen.flow_from_directory(test_path,                                          \n",
    "                                                batch_size=32,\n",
    "                                                target_size=(128, 128),\n",
    "                                                class_mode='categorical')"
   ]
  },
  {
   "cell_type": "code",
   "execution_count": 113,
   "id": "8196ddbb-1966-4857-8e52-2535319e5f7e",
   "metadata": {
    "tags": []
   },
   "outputs": [],
   "source": [
    "mypath= '../../Dataset/Dataset/'"
   ]
  },
  {
   "cell_type": "code",
   "execution_count": 114,
   "id": "fdb3a18e-6cf6-405b-8cbe-9316f28f010d",
   "metadata": {},
   "outputs": [],
   "source": [
    "file_name = []\n",
    "tag = []\n",
    "full_path = []\n",
    "\n",
    "for path, subdirs, files in os.walk(mypath):\n",
    "    for name in files:\n",
    "        full_path.append(os.path.join(path, name)) \n",
    "        tag.append(path.split('/')[-1])        \n",
    "        file_name.append(name)"
   ]
  },
  {
   "cell_type": "code",
   "execution_count": 115,
   "id": "c2516b15-b830-4d08-b9dc-3392cebd494b",
   "metadata": {},
   "outputs": [
    {
     "name": "stdout",
     "output_type": "stream",
     "text": [
      "Nama Dataset      : Anime-VS-Cartoon-VS-Human-Dataset\n",
      "Ukuran Gambar     : [128, 128, 3]\n",
      "Kelas             : ['Anime', 'Cartoon', 'Human']\n",
      "Total Data        : [8917]\n"
     ]
    }
   ],
   "source": [
    "# memasukan variabel yang sudah dikumpulkan pada looping di atas menjadi sebuah dataframe agar rapih\n",
    "print(\"Nama Dataset      : Anime-VS-Cartoon-VS-Human-Dataset\")\n",
    "print(\"Ukuran Gambar     : [128, 128, 3]\")\n",
    "print(\"Kelas             :\",class_names)\n",
    "print(\"Total Data        : [8917]\")"
   ]
  },
  {
   "cell_type": "code",
   "execution_count": 116,
   "id": "93d813b9-6513-4f39-a17c-bdf62335bb29",
   "metadata": {},
   "outputs": [
    {
     "name": "stdout",
     "output_type": "stream",
     "text": [
      "Jumlah Gambar     :\n"
     ]
    },
    {
     "data": {
      "text/plain": [
       "Nama\n",
       "anime      3004\n",
       "cartoon    2913\n",
       "human      3000\n",
       "dtype: int64"
      ]
     },
     "execution_count": 116,
     "metadata": {},
     "output_type": "execute_result"
    }
   ],
   "source": [
    "print(\"Jumlah Gambar     :\")\n",
    "df = pd.DataFrame({\"path\":full_path,'file_name':file_name,\"Nama\":tag})\n",
    "df.groupby(['Nama']).size()"
   ]
  },
  {
   "cell_type": "code",
   "execution_count": 117,
   "id": "0c179fcc-1e2b-42e9-b7eb-6c20eff39e99",
   "metadata": {},
   "outputs": [
    {
     "data": {
      "text/plain": [
       "['Anime', 'Cartoon', 'Human']"
      ]
     },
     "execution_count": 117,
     "metadata": {},
     "output_type": "execute_result"
    }
   ],
   "source": [
    "# List Nama Kelas\n",
    "class_names = ['Anime', 'Cartoon', 'Human']\n",
    "class_names\n"
   ]
  }
 ],
 "metadata": {
  "kernelspec": {
   "display_name": "Python 3 (ipykernel)",
   "language": "python",
   "name": "python3"
  },
  "language_info": {
   "codemirror_mode": {
    "name": "ipython",
    "version": 3
   },
   "file_extension": ".py",
   "mimetype": "text/x-python",
   "name": "python",
   "nbconvert_exporter": "python",
   "pygments_lexer": "ipython3",
   "version": "3.10.4"
  }
 },
 "nbformat": 4,
 "nbformat_minor": 5
}
